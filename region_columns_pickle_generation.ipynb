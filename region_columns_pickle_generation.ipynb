{
 "cells": [
  {
   "cell_type": "code",
   "execution_count": 1,
   "id": "154f9de7",
   "metadata": {},
   "outputs": [],
   "source": [
    "import pandas as pd\n",
    "import numpy as np\n",
    "\n",
    "from datetime import datetime\n",
    "import os"
   ]
  },
  {
   "cell_type": "code",
   "execution_count": 2,
   "id": "cb4767fc",
   "metadata": {},
   "outputs": [
    {
     "data": {
      "text/plain": [
       "\"/data2/naman/March_April'24\""
      ]
     },
     "execution_count": 2,
     "metadata": {},
     "output_type": "execute_result"
    }
   ],
   "source": [
    "cwd = os.getcwd()\n",
    "cwd\n"
   ]
  },
  {
   "cell_type": "code",
   "execution_count": 3,
   "id": "72455ce4",
   "metadata": {},
   "outputs": [
    {
     "name": "stdout",
     "output_type": "stream",
     "text": [
      "Sheet 'Sheet12' does not contain 'Yes/No' column.\n",
      "dict_keys(['CVR_L1', 'CVR_L2', 'CVAH_L1', 'CVAH_L2', 'Pinch_Roll_L1', 'Pinch_Roll_L2', 'HMD', 'SH1', 'SH2', 'SH3', 'Stand_01-06', 'Stand_07-12', 'Stand_13-18', 'FURNACE EXIT', 'Miscellaneous', 'NOT FOUND'])\n",
      "Sensor IDs for each sheet saved to sheetname_columns.pickle\n"
     ]
    }
   ],
   "source": [
    "import pandas as pd\n",
    "import pickle\n",
    "\n",
    "# Specify the path to the Excel file with multiple sheets\n",
    "input_excel_path = \"Regionwise_Shortlisted_April.xlsx\"\n",
    "\n",
    "# Load all sheets from the input Excel file into a dictionary of DataFrames\n",
    "input_sheets = pd.read_excel(input_excel_path, sheet_name=None)\n",
    "\n",
    "# Create a dictionary to store sensor IDs for each sheet\n",
    "regionwise_columns = {}\n",
    "\n",
    "# Process each sheet\n",
    "for sheet_name, sheet_df in input_sheets.items():\n",
    "    try:\n",
    "        # Filter rows where 'Yes/No' is 'Y'\n",
    "        filtered_df = sheet_df[sheet_df['Yes/No'] == 'Y']\n",
    "\n",
    "        # Store the list of Sensor_IDs in the dictionary\n",
    "        regionwise_columns[sheet_name.strip()] = list(filtered_df['Sensor_ID'])\n",
    "\n",
    "    except KeyError:\n",
    "        # Handle KeyError by skipping the sheet or taking other appropriate action\n",
    "        print(f\"Sheet '{sheet_name}' does not contain 'Yes/No' column.\")\n",
    "\n",
    "print(regionwise_columns.keys())\n",
    "        \n",
    "# Save the dictionary to a pickle file\n",
    "with open(\"regionwise_columns.pickle\", \"wb\") as pickle_file:\n",
    "    pickle.dump(regionwise_columns, pickle_file)\n",
    "\n",
    "print(\"Sensor IDs for each sheet saved to sheetname_columns.pickle\")\n"
   ]
  },
  {
   "cell_type": "code",
   "execution_count": 4,
   "id": "ba62a49c",
   "metadata": {},
   "outputs": [
    {
     "name": "stdout",
     "output_type": "stream",
     "text": [
      "CVR_L1 21\n",
      "CVR_L2 22\n",
      "CVAH_L1 50\n",
      "CVAH_L2 55\n",
      "Pinch_Roll_L1 21\n",
      "Pinch_Roll_L2 23\n",
      "HMD 39\n",
      "SH1 14\n",
      "SH2 22\n",
      "SH3 26\n",
      "Stand_01-06 36\n",
      "Stand_07-12 39\n",
      "Stand_13-18 43\n",
      "FURNACE EXIT 27\n",
      "Miscellaneous 0\n",
      "NOT FOUND 0\n"
     ]
    }
   ],
   "source": [
    "import pandas as pd\n",
    "regionwise_columns = pd.read_pickle(\"regionwise_columns.pickle\")\n",
    "for region, sensor in regionwise_columns.items():\n",
    "    print(region, len(set(regionwise_columns[region])))"
   ]
  }
 ],
 "metadata": {
  "kernelspec": {
   "display_name": "Python 3 (ipykernel)",
   "language": "python",
   "name": "python3"
  },
  "language_info": {
   "codemirror_mode": {
    "name": "ipython",
    "version": 3
   },
   "file_extension": ".py",
   "mimetype": "text/x-python",
   "name": "python",
   "nbconvert_exporter": "python",
   "pygments_lexer": "ipython3",
   "version": "3.10.12"
  }
 },
 "nbformat": 4,
 "nbformat_minor": 5
}
